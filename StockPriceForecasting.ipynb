{
 "cells": [
  {
   "cell_type": "code",
   "execution_count": 65,
   "id": "394354b4",
   "metadata": {},
   "outputs": [],
   "source": [
    "import pandas_datareader as pdr"
   ]
  },
  {
   "cell_type": "code",
   "execution_count": 84,
   "id": "cb594b7c",
   "metadata": {},
   "outputs": [
    {
     "name": "stderr",
     "output_type": "stream",
     "text": [
      "C:\\Users\\91977\\AppData\\Roaming\\Python\\Python39\\site-packages\\pandas_datareader\\tiingo.py:234: FutureWarning: In a future version of pandas all arguments of concat except for the argument 'objs' will be keyword-only.\n",
      "  return pd.concat(dfs, self._concat_axis)\n"
     ]
    }
   ],
   "source": [
    "df=pdr.get_data_tiingo('AAPL',api_key=key)"
   ]
  },
  {
   "cell_type": "code",
   "execution_count": 85,
   "id": "cd472d53",
   "metadata": {},
   "outputs": [],
   "source": [
    "df.to_csv('AAPL.csv')"
   ]
  },
  {
   "cell_type": "code",
   "execution_count": 86,
   "id": "899dff17",
   "metadata": {},
   "outputs": [],
   "source": [
    "import pandas as pd"
   ]
  },
  {
   "cell_type": "code",
   "execution_count": 87,
   "id": "0abba8d4",
   "metadata": {},
   "outputs": [],
   "source": [
    "df=pd.read_csv('AAPL.csv')"
   ]
  },
  {
   "cell_type": "code",
   "execution_count": 100,
   "id": "fa445a89",
   "metadata": {},
   "outputs": [
    {
     "data": {
      "text/html": [
       "<div>\n",
       "<style scoped>\n",
       "    .dataframe tbody tr th:only-of-type {\n",
       "        vertical-align: middle;\n",
       "    }\n",
       "\n",
       "    .dataframe tbody tr th {\n",
       "        vertical-align: top;\n",
       "    }\n",
       "\n",
       "    .dataframe thead th {\n",
       "        text-align: right;\n",
       "    }\n",
       "</style>\n",
       "<table border=\"1\" class=\"dataframe\">\n",
       "  <thead>\n",
       "    <tr style=\"text-align: right;\">\n",
       "      <th></th>\n",
       "      <th>symbol</th>\n",
       "      <th>date</th>\n",
       "      <th>close</th>\n",
       "      <th>high</th>\n",
       "      <th>low</th>\n",
       "      <th>open</th>\n",
       "      <th>volume</th>\n",
       "      <th>adjClose</th>\n",
       "      <th>adjHigh</th>\n",
       "      <th>adjLow</th>\n",
       "      <th>adjOpen</th>\n",
       "      <th>adjVolume</th>\n",
       "      <th>divCash</th>\n",
       "      <th>splitFactor</th>\n",
       "    </tr>\n",
       "  </thead>\n",
       "  <tbody>\n",
       "    <tr>\n",
       "      <th>0</th>\n",
       "      <td>AAPL</td>\n",
       "      <td>2018-07-02 00:00:00+00:00</td>\n",
       "      <td>187.18</td>\n",
       "      <td>187.30</td>\n",
       "      <td>183.42</td>\n",
       "      <td>183.82</td>\n",
       "      <td>17731343</td>\n",
       "      <td>44.717057</td>\n",
       "      <td>44.745725</td>\n",
       "      <td>43.818798</td>\n",
       "      <td>43.914358</td>\n",
       "      <td>70925372</td>\n",
       "      <td>0.0</td>\n",
       "      <td>1.0</td>\n",
       "    </tr>\n",
       "    <tr>\n",
       "      <th>1</th>\n",
       "      <td>AAPL</td>\n",
       "      <td>2018-07-03 00:00:00+00:00</td>\n",
       "      <td>183.92</td>\n",
       "      <td>187.95</td>\n",
       "      <td>183.54</td>\n",
       "      <td>187.79</td>\n",
       "      <td>13954806</td>\n",
       "      <td>43.938248</td>\n",
       "      <td>44.901009</td>\n",
       "      <td>43.847466</td>\n",
       "      <td>44.862785</td>\n",
       "      <td>55819224</td>\n",
       "      <td>0.0</td>\n",
       "      <td>1.0</td>\n",
       "    </tr>\n",
       "    <tr>\n",
       "      <th>2</th>\n",
       "      <td>AAPL</td>\n",
       "      <td>2018-07-05 00:00:00+00:00</td>\n",
       "      <td>185.40</td>\n",
       "      <td>186.41</td>\n",
       "      <td>184.28</td>\n",
       "      <td>185.26</td>\n",
       "      <td>16604248</td>\n",
       "      <td>44.291818</td>\n",
       "      <td>44.533105</td>\n",
       "      <td>44.024251</td>\n",
       "      <td>44.258372</td>\n",
       "      <td>66416992</td>\n",
       "      <td>0.0</td>\n",
       "      <td>1.0</td>\n",
       "    </tr>\n",
       "    <tr>\n",
       "      <th>3</th>\n",
       "      <td>AAPL</td>\n",
       "      <td>2018-07-06 00:00:00+00:00</td>\n",
       "      <td>187.97</td>\n",
       "      <td>188.43</td>\n",
       "      <td>185.20</td>\n",
       "      <td>185.42</td>\n",
       "      <td>17485245</td>\n",
       "      <td>44.905787</td>\n",
       "      <td>45.015681</td>\n",
       "      <td>44.244038</td>\n",
       "      <td>44.296596</td>\n",
       "      <td>69940980</td>\n",
       "      <td>0.0</td>\n",
       "      <td>1.0</td>\n",
       "    </tr>\n",
       "    <tr>\n",
       "      <th>4</th>\n",
       "      <td>AAPL</td>\n",
       "      <td>2018-07-09 00:00:00+00:00</td>\n",
       "      <td>190.58</td>\n",
       "      <td>190.68</td>\n",
       "      <td>189.30</td>\n",
       "      <td>189.50</td>\n",
       "      <td>19756634</td>\n",
       "      <td>45.529313</td>\n",
       "      <td>45.553203</td>\n",
       "      <td>45.223522</td>\n",
       "      <td>45.271302</td>\n",
       "      <td>79026536</td>\n",
       "      <td>0.0</td>\n",
       "      <td>1.0</td>\n",
       "    </tr>\n",
       "  </tbody>\n",
       "</table>\n",
       "</div>"
      ],
      "text/plain": [
       "  symbol                       date   close    high     low    open    volume  \\\n",
       "0   AAPL  2018-07-02 00:00:00+00:00  187.18  187.30  183.42  183.82  17731343   \n",
       "1   AAPL  2018-07-03 00:00:00+00:00  183.92  187.95  183.54  187.79  13954806   \n",
       "2   AAPL  2018-07-05 00:00:00+00:00  185.40  186.41  184.28  185.26  16604248   \n",
       "3   AAPL  2018-07-06 00:00:00+00:00  187.97  188.43  185.20  185.42  17485245   \n",
       "4   AAPL  2018-07-09 00:00:00+00:00  190.58  190.68  189.30  189.50  19756634   \n",
       "\n",
       "    adjClose    adjHigh     adjLow    adjOpen  adjVolume  divCash  splitFactor  \n",
       "0  44.717057  44.745725  43.818798  43.914358   70925372      0.0          1.0  \n",
       "1  43.938248  44.901009  43.847466  44.862785   55819224      0.0          1.0  \n",
       "2  44.291818  44.533105  44.024251  44.258372   66416992      0.0          1.0  \n",
       "3  44.905787  45.015681  44.244038  44.296596   69940980      0.0          1.0  \n",
       "4  45.529313  45.553203  45.223522  45.271302   79026536      0.0          1.0  "
      ]
     },
     "execution_count": 100,
     "metadata": {},
     "output_type": "execute_result"
    }
   ],
   "source": [
    "df.head()"
   ]
  },
  {
   "cell_type": "code",
   "execution_count": 101,
   "id": "39936686",
   "metadata": {},
   "outputs": [],
   "source": [
    "df1=df.reset_index()['close']"
   ]
  },
  {
   "cell_type": "code",
   "execution_count": 102,
   "id": "33146ed6",
   "metadata": {},
   "outputs": [
    {
     "data": {
      "text/plain": [
       "0    187.18\n",
       "1    183.92\n",
       "2    185.40\n",
       "3    187.97\n",
       "4    190.58\n",
       "Name: close, dtype: float64"
      ]
     },
     "execution_count": 102,
     "metadata": {},
     "output_type": "execute_result"
    }
   ],
   "source": [
    "df1.head()"
   ]
  },
  {
   "cell_type": "code",
   "execution_count": 103,
   "id": "a8e67ebc",
   "metadata": {},
   "outputs": [
    {
     "data": {
      "text/plain": [
       "[<matplotlib.lines.Line2D at 0x22550597850>]"
      ]
     },
     "execution_count": 103,
     "metadata": {},
     "output_type": "execute_result"
    },
    {
     "data": {
      "image/png": "[encoded data removed]",
      "text/plain": [
       "<Figure size 432x288 with 1 Axes>"
      ]
     },
     "metadata": {
      "needs_background": "light"
     },
     "output_type": "display_data"
    }
   ],
   "source": [
    "import matplotlib.pyplot as plt\n",
    "plt.plot(df1)"
   ]
  },
  {
   "cell_type": "code",
   "execution_count": 104,
   "id": "3eedf093",
   "metadata": {},
   "outputs": [],
   "source": [
    "## LSTM are sensitive to the scale of the data, so we apply MinMax scaler"
   ]
  },
  {
   "cell_type": "code",
   "execution_count": 105,
   "id": "270854e5",
   "metadata": {},
   "outputs": [],
   "source": [
    "import numpy as np"
   ]
  },
  {
   "cell_type": "code",
   "execution_count": 106,
   "id": "35a8801a",
   "metadata": {},
   "outputs": [],
   "source": [
    "from sklearn.preprocessing import MinMaxScaler\n",
    "scaler=MinMaxScaler(feature_range=(0,1))\n",
    "df1=scaler.fit_transform(np.array(df1).reshape(-1,1))"
   ]
  },
  {
   "cell_type": "code",
   "execution_count": 107,
   "id": "db7cb241",
   "metadata": {},
   "outputs": [
    {
     "data": {
      "text/plain": [
       "(1256, 1)"
      ]
     },
     "execution_count": 107,
     "metadata": {},
     "output_type": "execute_result"
    }
   ],
   "source": [
    "df1.shape"
   ]
  },
  {
   "cell_type": "markdown",
   "id": "cf1bcc91",
   "metadata": {},
   "source": [
    "## whenever dealing with time series data\n",
    "we should try to divide the data based on day\n",
    "because the next data is depend upon the previous data in case of time series data"
   ]
  },
  {
   "cell_type": "code",
   "execution_count": 108,
   "id": "8d570fd1",
   "metadata": {},
   "outputs": [],
   "source": [
    "training_size=int(len(df1)*0.65)\n",
    "test_size=len(df1)-training_size\n",
    "train_data,test_data=df1[0:training_size,:],df1[training_size:len(df1),:]"
   ]
  },
  {
   "cell_type": "code",
   "execution_count": 113,
   "id": "65515e07",
   "metadata": {},
   "outputs": [],
   "source": [
    "# Data Preprocessing\n",
    "# convert an array of values into a dataset matrix\n",
    "def create_dataset(dataset,time_step=1):\n",
    "    dataX,dataY=[],[]\n",
    "    for i in range(len(dataset)-time_step-1):\n",
    "        a=dataset[i:(i+time_step),0]  ### i=0, 0,1,2,3\n",
    "        dataX.append(a);\n",
    "        dataY.append(dataset[i+time_step,0])\n",
    "    return np.array(dataX),np.array(dataY)"
   ]
  },
  {
   "cell_type": "code",
   "execution_count": 117,
   "id": "15541153",
   "metadata": {},
   "outputs": [],
   "source": [
    "time_step=100\n",
    "X_train,y_train=create_dataset(train_data,time_step)\n",
    "X_test,y_test=create_dataset(test_data,time_step)"
   ]
  },
  {
   "cell_type": "code",
   "execution_count": 119,
   "id": "b0941566",
   "metadata": {},
   "outputs": [
    {
     "name": "stdout",
     "output_type": "stream",
     "text": [
      "(715, 100)\n"
     ]
    }
   ],
   "source": [
    "print(X_train.shape)"
   ]
  },
  {
   "cell_type": "code",
   "execution_count": 120,
   "id": "ac414b7e",
   "metadata": {},
   "outputs": [
    {
     "data": {
      "text/plain": [
       "(715,)"
      ]
     },
     "execution_count": 120,
     "metadata": {},
     "output_type": "execute_result"
    }
   ],
   "source": [
    "y_train.shape"
   ]
  },
  {
   "cell_type": "code",
   "execution_count": 121,
   "id": "8a2492ab",
   "metadata": {},
   "outputs": [],
   "source": [
    "# reshape X_train into 3d\n",
    "X_train=X_train.reshape(X_train.shape[0],X_train.shape[1],1)\n",
    "X_test=X_test.reshape(X_test.shape[0],X_test.shape[1],1)"
   ]
  },
  {
   "cell_type": "code",
   "execution_count": 122,
   "id": "32bba9f0",
   "metadata": {},
   "outputs": [],
   "source": [
    "### Creating the LSTM model\n",
    "from tensorflow.keras.models import Sequential\n",
    "from tensorflow.keras.layers import Dense\n",
    "from tensorflow.keras.layers import LSTM"
   ]
  },
  {
   "cell_type": "code",
   "execution_count": 123,
   "id": "6c813d5e",
   "metadata": {},
   "outputs": [],
   "source": [
    "model=Sequential()\n",
    "model.add(LSTM(50,return_sequences=True,input_shape=(100,1)))\n",
    "model.add(LSTM(50,return_sequences=True))\n",
    "model.add(LSTM(50))\n",
    "model.add(Dense(1))\n",
    "model.compile(loss='mean_squared_error',optimizer='adam')"
   ]
  },
  {
   "cell_type": "code",
   "execution_count": 124,
   "id": "d1dd80c5",
   "metadata": {},
   "outputs": [
    {
     "name": "stdout",
     "output_type": "stream",
     "text": [
      "Model: \"sequential\"\n",
      "_________________________________________________________________\n",
      " Layer (type)                Output Shape              Param #   \n",
      "=================================================================\n",
      " lstm (LSTM)                 (None, 100, 50)           10400     \n",
      "                                                                 \n",
      " lstm_1 (LSTM)               (None, 100, 50)           20200     \n",
      "                                                                 \n",
      " lstm_2 (LSTM)               (None, 50)                20200     \n",
      "                                                                 \n",
      " dense (Dense)               (None, 1)                 51        \n",
      "                                                                 \n",
      "=================================================================\n",
      "Total params: 50,851\n",
      "Trainable params: 50,851\n",
      "Non-trainable params: 0\n",
      "_________________________________________________________________\n"
     ]
    }
   ],
   "source": [
    "model.summary()"
   ]
  },
  {
   "cell_type": "code",
   "execution_count": 126,
   "id": "4333b567",
   "metadata": {},
   "outputs": [
    {
     "name": "stdout",
     "output_type": "stream",
     "text": [
      "Epoch 1/100\n",
      "12/12 [==============================] - 6s 191ms/step - loss: 0.0403 - val_loss: 0.0020\n",
      "Epoch 2/100\n",
      "12/12 [==============================] - 1s 123ms/step - loss: 0.0134 - val_loss: 0.0010\n",
      "Epoch 3/100\n",
      "12/12 [==============================] - 2s 126ms/step - loss: 0.0095 - val_loss: 4.2171e-04\n",
      "Epoch 4/100\n",
      "12/12 [==============================] - 2s 128ms/step - loss: 0.0090 - val_loss: 3.2195e-04\n",
      "Epoch 5/100\n",
      "12/12 [==============================] - 1s 122ms/step - loss: 0.0077 - val_loss: 6.0356e-04\n",
      "Epoch 6/100\n",
      "12/12 [==============================] - 1s 120ms/step - loss: 0.0071 - val_loss: 2.7414e-04\n",
      "Epoch 7/100\n",
      "12/12 [==============================] - 2s 131ms/step - loss: 0.0103 - val_loss: 0.0043\n",
      "Epoch 8/100\n",
      "12/12 [==============================] - 2s 129ms/step - loss: 0.0085 - val_loss: 6.7302e-04\n",
      "Epoch 9/100\n",
      "12/12 [==============================] - 2s 126ms/step - loss: 0.0066 - val_loss: 3.7685e-04\n",
      "Epoch 10/100\n",
      "12/12 [==============================] - 2s 135ms/step - loss: 0.0053 - val_loss: 3.5222e-04\n",
      "Epoch 11/100\n",
      "12/12 [==============================] - 2s 127ms/step - loss: 0.0049 - val_loss: 2.6282e-04\n",
      "Epoch 12/100\n",
      "12/12 [==============================] - 1s 125ms/step - loss: 0.0048 - val_loss: 2.8161e-04\n",
      "Epoch 13/100\n",
      "12/12 [==============================] - 2s 184ms/step - loss: 0.0041 - val_loss: 3.0877e-04\n",
      "Epoch 14/100\n",
      "12/12 [==============================] - 2s 171ms/step - loss: 0.0040 - val_loss: 2.6767e-04\n",
      "Epoch 15/100\n",
      "12/12 [==============================] - 2s 140ms/step - loss: 0.0037 - val_loss: 2.6845e-04\n",
      "Epoch 16/100\n",
      "12/12 [==============================] - 2s 148ms/step - loss: 0.0034 - val_loss: 2.9808e-04\n",
      "Epoch 17/100\n",
      "12/12 [==============================] - 3s 270ms/step - loss: 0.0031 - val_loss: 2.5580e-04\n",
      "Epoch 18/100\n",
      "12/12 [==============================] - 4s 299ms/step - loss: 0.0031 - val_loss: 2.9640e-04\n",
      "Epoch 19/100\n",
      "12/12 [==============================] - 2s 160ms/step - loss: 0.0026 - val_loss: 2.2687e-04\n",
      "Epoch 20/100\n",
      "12/12 [==============================] - 2s 162ms/step - loss: 0.0025 - val_loss: 2.9697e-04\n",
      "Epoch 21/100\n",
      "12/12 [==============================] - 2s 139ms/step - loss: 0.0028 - val_loss: 2.9920e-04\n",
      "Epoch 22/100\n",
      "12/12 [==============================] - 2s 159ms/step - loss: 0.0028 - val_loss: 2.1846e-04\n",
      "Epoch 23/100\n",
      "12/12 [==============================] - 2s 148ms/step - loss: 0.0022 - val_loss: 2.4237e-04\n",
      "Epoch 24/100\n",
      "12/12 [==============================] - 2s 150ms/step - loss: 0.0023 - val_loss: 3.5727e-04\n",
      "Epoch 25/100\n",
      "12/12 [==============================] - 2s 152ms/step - loss: 0.0047 - val_loss: 2.3651e-04\n",
      "Epoch 26/100\n",
      "12/12 [==============================] - 2s 148ms/step - loss: 0.0029 - val_loss: 3.3213e-04\n",
      "Epoch 27/100\n",
      "12/12 [==============================] - 2s 148ms/step - loss: 0.0022 - val_loss: 2.4152e-04\n",
      "Epoch 28/100\n",
      "12/12 [==============================] - 2s 166ms/step - loss: 0.0021 - val_loss: 2.2683e-04\n",
      "Epoch 29/100\n",
      "12/12 [==============================] - 2s 150ms/step - loss: 0.0022 - val_loss: 2.4499e-04\n",
      "Epoch 30/100\n",
      "12/12 [==============================] - 2s 144ms/step - loss: 0.0023 - val_loss: 2.3387e-04\n",
      "Epoch 31/100\n",
      "12/12 [==============================] - 2s 151ms/step - loss: 0.0023 - val_loss: 2.2797e-04\n",
      "Epoch 32/100\n",
      "12/12 [==============================] - 2s 147ms/step - loss: 0.0019 - val_loss: 2.5322e-04\n",
      "Epoch 33/100\n",
      "12/12 [==============================] - 2s 136ms/step - loss: 0.0022 - val_loss: 2.5313e-04\n",
      "Epoch 34/100\n",
      "12/12 [==============================] - 2s 135ms/step - loss: 0.0018 - val_loss: 2.2590e-04\n",
      "Epoch 35/100\n",
      "12/12 [==============================] - 2s 131ms/step - loss: 0.0018 - val_loss: 2.8163e-04\n",
      "Epoch 36/100\n",
      "12/12 [==============================] - 2s 139ms/step - loss: 0.0022 - val_loss: 2.4753e-04\n",
      "Epoch 37/100\n",
      "12/12 [==============================] - 2s 135ms/step - loss: 0.0018 - val_loss: 2.2306e-04\n",
      "Epoch 38/100\n",
      "12/12 [==============================] - 2s 146ms/step - loss: 0.0039 - val_loss: 6.5535e-04\n",
      "Epoch 39/100\n",
      "12/12 [==============================] - 2s 194ms/step - loss: 0.0099 - val_loss: 0.0013\n",
      "Epoch 40/100\n",
      "12/12 [==============================] - 2s 159ms/step - loss: 0.0055 - val_loss: 2.5975e-04\n",
      "Epoch 41/100\n",
      "12/12 [==============================] - 2s 159ms/step - loss: 0.0047 - val_loss: 8.5456e-04\n",
      "Epoch 42/100\n",
      "12/12 [==============================] - 2s 165ms/step - loss: 0.0047 - val_loss: 3.1890e-04\n",
      "Epoch 43/100\n",
      "12/12 [==============================] - 2s 159ms/step - loss: 0.0040 - val_loss: 2.4901e-04\n",
      "Epoch 44/100\n",
      "12/12 [==============================] - 2s 179ms/step - loss: 0.0035 - val_loss: 2.4792e-04\n",
      "Epoch 45/100\n",
      "12/12 [==============================] - 2s 180ms/step - loss: 0.0037 - val_loss: 2.4532e-04\n",
      "Epoch 46/100\n",
      "12/12 [==============================] - 2s 148ms/step - loss: 0.0033 - val_loss: 2.1178e-04\n",
      "Epoch 47/100\n",
      "12/12 [==============================] - 2s 151ms/step - loss: 0.0030 - val_loss: 2.4555e-04\n",
      "Epoch 48/100\n",
      "12/12 [==============================] - 2s 154ms/step - loss: 0.0058 - val_loss: 5.5587e-04\n",
      "Epoch 49/100\n",
      "12/12 [==============================] - 2s 145ms/step - loss: 0.0037 - val_loss: 5.4175e-04\n",
      "Epoch 50/100\n",
      "12/12 [==============================] - 2s 151ms/step - loss: 0.0030 - val_loss: 2.5930e-04\n",
      "Epoch 51/100\n",
      "12/12 [==============================] - 2s 144ms/step - loss: 0.0026 - val_loss: 2.4187e-04\n",
      "Epoch 52/100\n",
      "12/12 [==============================] - 2s 138ms/step - loss: 0.0050 - val_loss: 3.9010e-04\n",
      "Epoch 53/100\n",
      "12/12 [==============================] - 2s 147ms/step - loss: 0.0034 - val_loss: 3.4038e-04\n",
      "Epoch 54/100\n",
      "12/12 [==============================] - 2s 144ms/step - loss: 0.0028 - val_loss: 1.9764e-04\n",
      "Epoch 55/100\n",
      "12/12 [==============================] - 2s 145ms/step - loss: 0.0025 - val_loss: 2.7305e-04\n",
      "Epoch 56/100\n",
      "12/12 [==============================] - 2s 142ms/step - loss: 0.0025 - val_loss: 2.1102e-04\n",
      "Epoch 57/100\n",
      "12/12 [==============================] - 2s 146ms/step - loss: 0.0023 - val_loss: 2.1385e-04\n",
      "Epoch 58/100\n",
      "12/12 [==============================] - 2s 146ms/step - loss: 0.0022 - val_loss: 2.1088e-04\n",
      "Epoch 59/100\n",
      "12/12 [==============================] - 2s 141ms/step - loss: 0.0022 - val_loss: 1.9378e-04\n",
      "Epoch 60/100\n",
      "12/12 [==============================] - 2s 135ms/step - loss: 0.0022 - val_loss: 2.1089e-04\n",
      "Epoch 61/100\n",
      "12/12 [==============================] - 2s 139ms/step - loss: 0.0021 - val_loss: 2.1829e-04\n",
      "Epoch 62/100\n",
      "12/12 [==============================] - 2s 135ms/step - loss: 0.0019 - val_loss: 2.0526e-04\n",
      "Epoch 63/100\n",
      "12/12 [==============================] - 2s 137ms/step - loss: 0.0019 - val_loss: 2.1992e-04\n",
      "Epoch 64/100\n",
      "12/12 [==============================] - 2s 136ms/step - loss: 0.0018 - val_loss: 1.9515e-04\n",
      "Epoch 65/100\n",
      "12/12 [==============================] - 2s 134ms/step - loss: 0.0018 - val_loss: 1.9358e-04\n",
      "Epoch 66/100\n",
      "12/12 [==============================] - 2s 137ms/step - loss: 0.0018 - val_loss: 2.0205e-04\n",
      "Epoch 67/100\n",
      "12/12 [==============================] - 2s 145ms/step - loss: 0.0030 - val_loss: 2.0420e-04\n",
      "Epoch 68/100\n",
      "12/12 [==============================] - 2s 138ms/step - loss: 0.0027 - val_loss: 2.0799e-04\n",
      "Epoch 69/100\n",
      "12/12 [==============================] - 2s 146ms/step - loss: 0.0022 - val_loss: 1.9675e-04\n",
      "Epoch 70/100\n",
      "12/12 [==============================] - 2s 147ms/step - loss: 0.0020 - val_loss: 1.9328e-04\n",
      "Epoch 71/100\n",
      "12/12 [==============================] - 2s 135ms/step - loss: 0.0020 - val_loss: 2.4516e-04\n",
      "Epoch 72/100\n",
      "12/12 [==============================] - 2s 140ms/step - loss: 0.0017 - val_loss: 2.2645e-04\n",
      "Epoch 73/100\n",
      "12/12 [==============================] - 2s 143ms/step - loss: 0.0017 - val_loss: 2.0072e-04\n",
      "Epoch 74/100\n",
      "12/12 [==============================] - 2s 144ms/step - loss: 0.0016 - val_loss: 1.9530e-04\n",
      "Epoch 75/100\n",
      "12/12 [==============================] - 2s 137ms/step - loss: 0.0014 - val_loss: 1.9859e-04\n",
      "Epoch 76/100\n",
      "12/12 [==============================] - 2s 135ms/step - loss: 0.0015 - val_loss: 2.1720e-04\n",
      "Epoch 77/100\n",
      "12/12 [==============================] - 2s 140ms/step - loss: 0.0018 - val_loss: 3.5781e-04\n",
      "Epoch 78/100\n"
     ]
    },
    {
     "name": "stdout",
     "output_type": "stream",
     "text": [
      "12/12 [==============================] - 2s 135ms/step - loss: 0.0024 - val_loss: 2.0453e-04\n",
      "Epoch 79/100\n",
      "12/12 [==============================] - 2s 132ms/step - loss: 0.0018 - val_loss: 2.0699e-04\n",
      "Epoch 80/100\n",
      "12/12 [==============================] - 2s 140ms/step - loss: 0.0016 - val_loss: 1.9556e-04\n",
      "Epoch 81/100\n",
      "12/12 [==============================] - 2s 131ms/step - loss: 0.0016 - val_loss: 2.2133e-04\n",
      "Epoch 82/100\n",
      "12/12 [==============================] - 2s 136ms/step - loss: 0.0015 - val_loss: 2.4922e-04\n",
      "Epoch 83/100\n",
      "12/12 [==============================] - 2s 139ms/step - loss: 0.0015 - val_loss: 1.9673e-04\n",
      "Epoch 84/100\n",
      "12/12 [==============================] - 2s 166ms/step - loss: 0.0013 - val_loss: 2.0653e-04\n",
      "Epoch 85/100\n",
      "12/12 [==============================] - 2s 155ms/step - loss: 0.0013 - val_loss: 1.9368e-04\n",
      "Epoch 86/100\n",
      "12/12 [==============================] - 2s 162ms/step - loss: 0.0013 - val_loss: 2.1641e-04\n",
      "Epoch 87/100\n",
      "12/12 [==============================] - 2s 147ms/step - loss: 0.0014 - val_loss: 1.9972e-04\n",
      "Epoch 88/100\n",
      "12/12 [==============================] - 2s 149ms/step - loss: 0.0014 - val_loss: 2.0073e-04\n",
      "Epoch 89/100\n",
      "12/12 [==============================] - 2s 149ms/step - loss: 0.0013 - val_loss: 2.0294e-04\n",
      "Epoch 90/100\n",
      "12/12 [==============================] - 2s 150ms/step - loss: 0.0015 - val_loss: 2.1787e-04\n",
      "Epoch 91/100\n",
      "12/12 [==============================] - 2s 155ms/step - loss: 0.0013 - val_loss: 2.6070e-04\n",
      "Epoch 92/100\n",
      "12/12 [==============================] - 2s 164ms/step - loss: 0.0015 - val_loss: 2.6175e-04\n",
      "Epoch 93/100\n",
      "12/12 [==============================] - 2s 144ms/step - loss: 0.0018 - val_loss: 1.9913e-04\n",
      "Epoch 94/100\n",
      "12/12 [==============================] - 2s 146ms/step - loss: 0.0014 - val_loss: 2.1198e-04\n",
      "Epoch 95/100\n",
      "12/12 [==============================] - 2s 150ms/step - loss: 0.0013 - val_loss: 1.9800e-04\n",
      "Epoch 96/100\n",
      "12/12 [==============================] - 2s 147ms/step - loss: 0.0012 - val_loss: 1.9506e-04\n",
      "Epoch 97/100\n",
      "12/12 [==============================] - 2s 146ms/step - loss: 0.0012 - val_loss: 2.5330e-04\n",
      "Epoch 98/100\n",
      "12/12 [==============================] - 2s 147ms/step - loss: 0.0024 - val_loss: 4.1199e-04\n",
      "Epoch 99/100\n",
      "12/12 [==============================] - 2s 149ms/step - loss: 0.0026 - val_loss: 2.1212e-04\n",
      "Epoch 100/100\n",
      "12/12 [==============================] - 2s 148ms/step - loss: 0.0021 - val_loss: 1.9988e-04\n"
     ]
    },
    {
     "data": {
      "text/plain": [
       "<keras.callbacks.History at 0x225597a23d0>"
      ]
     },
     "execution_count": 126,
     "metadata": {},
     "output_type": "execute_result"
    }
   ],
   "source": [
    "model.fit(X_train,y_train,validation_data=(X_test,y_test),epochs=100,batch_size=64,verbose=1)"
   ]
  },
  {
   "cell_type": "code",
   "execution_count": 141,
   "id": "6168089b",
   "metadata": {},
   "outputs": [
    {
     "name": "stdout",
     "output_type": "stream",
     "text": [
      "23/23 [==============================] - 1s 23ms/step\n",
      "11/11 [==============================] - 0s 21ms/step\n"
     ]
    }
   ],
   "source": [
    "train_predict=model.predict(X_train)\n",
    "test_predict=model.predict(X_test)"
   ]
  },
  {
   "cell_type": "code",
   "execution_count": 142,
   "id": "e1912308",
   "metadata": {},
   "outputs": [],
   "source": [
    "#transfromback to original form\n",
    "train_predict=scaler.inverse_transform(train_predict)\n",
    "test_predict=scaler.inverse_transform(test_predict)"
   ]
  },
  {
   "cell_type": "code",
   "execution_count": 143,
   "id": "444a2323",
   "metadata": {},
   "outputs": [
    {
     "data": {
      "text/plain": [
       "220.2939637589354"
      ]
     },
     "execution_count": 143,
     "metadata": {},
     "output_type": "execute_result"
    }
   ],
   "source": [
    "import math\n",
    "from sklearn.metrics import mean_squared_error\n",
    "math.sqrt(mean_squared_error(y_train,train_predict))"
   ]
  },
  {
   "cell_type": "code",
   "execution_count": 144,
   "id": "e453e8e8",
   "metadata": {},
   "outputs": [
    {
     "data": {
      "text/plain": [
       "155.5513052427206"
      ]
     },
     "execution_count": 144,
     "metadata": {},
     "output_type": "execute_result"
    }
   ],
   "source": [
    "math.sqrt(mean_squared_error(y_test,test_predict))"
   ]
  },
  {
   "cell_type": "code",
   "execution_count": 145,
   "id": "8d86e500",
   "metadata": {},
   "outputs": [
    {
     "data": {
      "image/png": "[encoded data removed]",
      "text/plain": [
       "<Figure size 432x288 with 1 Axes>"
      ]
     },
     "metadata": {
      "needs_background": "light"
     },
     "output_type": "display_data"
    }
   ],
   "source": [
    "## plotting\n",
    "# shift train prediction for plotting\n",
    "look_back=100\n",
    "trainPredictPlot=np.empty_like(df1)\n",
    "trainPredictPlot[:,:]=np.nan\n",
    "trainPredictPlot[look_back:len(train_predict)+look_back,:]=train_predict\n",
    "\n",
    "# shift test predictions for plotting\n",
    "testPredictPlot=np.empty_like(df1)\n",
    "testPredictPlot[:,:]=np.nan\n",
    "testPredictPlot[len(train_predict)+look_back*2+1:len(df1)-1,:]=test_predict\n",
    "\n",
    "#plot baseline and predictions\n",
    "plt.plot(scaler.inverse_transform(df1))\n",
    "plt.plot(trainPredictPlot)\n",
    "plt.plot(testPredictPlot)\n",
    "plt.show()"
   ]
  },
  {
   "cell_type": "code",
   "execution_count": null,
   "id": "cee6a039",
   "metadata": {},
   "outputs": [],
   "source": [
    "# predict the future 10 days"
   ]
  },
  {
   "cell_type": "code",
   "execution_count": 146,
   "id": "1dd3f73b",
   "metadata": {},
   "outputs": [
    {
     "data": {
      "text/plain": [
       "440"
      ]
     },
     "execution_count": 146,
     "metadata": {},
     "output_type": "execute_result"
    }
   ],
   "source": [
    "len(test_data)"
   ]
  },
  {
   "cell_type": "code",
   "execution_count": 158,
   "id": "d33ff24f",
   "metadata": {},
   "outputs": [
    {
     "data": {
      "text/plain": [
       "(1, 100)"
      ]
     },
     "execution_count": 158,
     "metadata": {},
     "output_type": "execute_result"
    }
   ],
   "source": [
    "x_input=test_data[340:].reshape(1,-1) # taking previous 100 days data\n",
    "x_input.shape"
   ]
  },
  {
   "cell_type": "code",
   "execution_count": 159,
   "id": "8d77af21",
   "metadata": {},
   "outputs": [],
   "source": [
    "temp_input=list(x_input)\n",
    "temp_input=temp_input[0].tolist()"
   ]
  },
  {
   "cell_type": "code",
   "execution_count": 160,
   "id": "cdd2dd97",
   "metadata": {},
   "outputs": [],
   "source": [
    "#temp_input"
   ]
  },
  {
   "cell_type": "code",
   "execution_count": 165,
   "id": "daaeedb5",
   "metadata": {},
   "outputs": [
    {
     "name": "stdout",
     "output_type": "stream",
     "text": [
      "0 day input [0.13134627 0.12771446 0.13046963 0.13377583 0.12884158 0.12726362\n",
      " 0.13507827 0.13906074 0.14542267 0.14860363 0.1472511  0.14256731\n",
      " 0.14482154 0.13823419 0.13515341 0.13340013 0.14707577 0.14619912\n",
      " 0.14624922 0.14935504 0.15226049 0.14980589 0.14572323 0.14649969\n",
      " 0.14259236 0.14256731 0.15421415 0.15739512 0.15716969 0.15453976\n",
      " 0.15180964 0.14765185 0.16713838 0.16696306 0.16262993 0.16710081\n",
      " 0.16758923 0.16463369 0.16338134 0.16338134 0.16493425 0.17084534\n",
      " 0.17112085 0.16871634 0.16210394 0.16280526 0.16568566 0.17179712\n",
      " 0.1764809  0.17635567 0.183469   0.18562304 0.18219161 0.18126487\n",
      " 0.17778334 0.18467126 0.18564809 0.19273638 0.19153413 0.19313713\n",
      " 0.19829681 0.19556669 0.19579211 0.19316218 0.20077646 0.19997495\n",
      " 0.19644333 0.20343143 0.20641202 0.19746828 0.19842301 0.1989764\n",
      " 0.19924296 0.19933718 0.19933847 0.1992936  0.19922753 0.19915257\n",
      " 0.19907489 0.19899753 0.19892216 0.1988499  0.19878142 0.19871706\n",
      " 0.1986571  0.19860151 0.19855008 0.19850251 0.19845843 0.19841728\n",
      " 0.1983787  0.19834211 0.19830707 0.19827315 0.19823997 0.19820711\n",
      " 0.19817427 0.19814126 0.19810784 0.19807383]\n",
      "0 day output [[0.19803923]]\n",
      "1 day input [0.12771446 0.13046963 0.13377583 0.12884158 0.12726362 0.13507827\n",
      " 0.13906074 0.14542267 0.14860363 0.1472511  0.14256731 0.14482154\n",
      " 0.13823419 0.13515341 0.13340013 0.14707577 0.14619912 0.14624922\n",
      " 0.14935504 0.15226049 0.14980589 0.14572323 0.14649969 0.14259236\n",
      " 0.14256731 0.15421415 0.15739512 0.15716969 0.15453976 0.15180964\n",
      " 0.14765185 0.16713838 0.16696306 0.16262993 0.16710081 0.16758923\n",
      " 0.16463369 0.16338134 0.16338134 0.16493425 0.17084534 0.17112085\n",
      " 0.16871634 0.16210394 0.16280526 0.16568566 0.17179712 0.1764809\n",
      " 0.17635567 0.183469   0.18562304 0.18219161 0.18126487 0.17778334\n",
      " 0.18467126 0.18564809 0.19273638 0.19153413 0.19313713 0.19829681\n",
      " 0.19556669 0.19579211 0.19316218 0.20077646 0.19997495 0.19644333\n",
      " 0.20343143 0.20641202 0.19746828 0.19842301 0.1989764  0.19924296\n",
      " 0.19933718 0.19933847 0.1992936  0.19922753 0.19915257 0.19907489\n",
      " 0.19899753 0.19892216 0.1988499  0.19878142 0.19871706 0.1986571\n",
      " 0.19860151 0.19855008 0.19850251 0.19845843 0.19841728 0.1983787\n",
      " 0.19834211 0.19830707 0.19827315 0.19823997 0.19820711 0.19817427\n",
      " 0.19814126 0.19810784 0.19807383 0.19803923]\n",
      "1 day output [[0.19800387]]\n",
      "2 day input [0.13046963 0.13377583 0.12884158 0.12726362 0.13507827 0.13906074\n",
      " 0.14542267 0.14860363 0.1472511  0.14256731 0.14482154 0.13823419\n",
      " 0.13515341 0.13340013 0.14707577 0.14619912 0.14624922 0.14935504\n",
      " 0.15226049 0.14980589 0.14572323 0.14649969 0.14259236 0.14256731\n",
      " 0.15421415 0.15739512 0.15716969 0.15453976 0.15180964 0.14765185\n",
      " 0.16713838 0.16696306 0.16262993 0.16710081 0.16758923 0.16463369\n",
      " 0.16338134 0.16338134 0.16493425 0.17084534 0.17112085 0.16871634\n",
      " 0.16210394 0.16280526 0.16568566 0.17179712 0.1764809  0.17635567\n",
      " 0.183469   0.18562304 0.18219161 0.18126487 0.17778334 0.18467126\n",
      " 0.18564809 0.19273638 0.19153413 0.19313713 0.19829681 0.19556669\n",
      " 0.19579211 0.19316218 0.20077646 0.19997495 0.19644333 0.20343143\n",
      " 0.20641202 0.19746828 0.19842301 0.1989764  0.19924296 0.19933718\n",
      " 0.19933847 0.1992936  0.19922753 0.19915257 0.19907489 0.19899753\n",
      " 0.19892216 0.1988499  0.19878142 0.19871706 0.1986571  0.19860151\n",
      " 0.19855008 0.19850251 0.19845843 0.19841728 0.1983787  0.19834211\n",
      " 0.19830707 0.19827315 0.19823997 0.19820711 0.19817427 0.19814126\n",
      " 0.19810784 0.19807383 0.19803923 0.19800387]\n",
      "2 day output [[0.19796775]]\n",
      "3 day input [0.13377583 0.12884158 0.12726362 0.13507827 0.13906074 0.14542267\n",
      " 0.14860363 0.1472511  0.14256731 0.14482154 0.13823419 0.13515341\n",
      " 0.13340013 0.14707577 0.14619912 0.14624922 0.14935504 0.15226049\n",
      " 0.14980589 0.14572323 0.14649969 0.14259236 0.14256731 0.15421415\n",
      " 0.15739512 0.15716969 0.15453976 0.15180964 0.14765185 0.16713838\n",
      " 0.16696306 0.16262993 0.16710081 0.16758923 0.16463369 0.16338134\n",
      " 0.16338134 0.16493425 0.17084534 0.17112085 0.16871634 0.16210394\n",
      " 0.16280526 0.16568566 0.17179712 0.1764809  0.17635567 0.183469\n",
      " 0.18562304 0.18219161 0.18126487 0.17778334 0.18467126 0.18564809\n",
      " 0.19273638 0.19153413 0.19313713 0.19829681 0.19556669 0.19579211\n",
      " 0.19316218 0.20077646 0.19997495 0.19644333 0.20343143 0.20641202\n",
      " 0.19746828 0.19842301 0.1989764  0.19924296 0.19933718 0.19933847\n",
      " 0.1992936  0.19922753 0.19915257 0.19907489 0.19899753 0.19892216\n",
      " 0.1988499  0.19878142 0.19871706 0.1986571  0.19860151 0.19855008\n",
      " 0.19850251 0.19845843 0.19841728 0.1983787  0.19834211 0.19830707\n",
      " 0.19827315 0.19823997 0.19820711 0.19817427 0.19814126 0.19810784\n",
      " 0.19807383 0.19803923 0.19800387 0.19796775]\n",
      "3 day output [[0.19793087]]\n",
      "4 day input [0.12884158 0.12726362 0.13507827 0.13906074 0.14542267 0.14860363\n",
      " 0.1472511  0.14256731 0.14482154 0.13823419 0.13515341 0.13340013\n",
      " 0.14707577 0.14619912 0.14624922 0.14935504 0.15226049 0.14980589\n",
      " 0.14572323 0.14649969 0.14259236 0.14256731 0.15421415 0.15739512\n",
      " 0.15716969 0.15453976 0.15180964 0.14765185 0.16713838 0.16696306\n",
      " 0.16262993 0.16710081 0.16758923 0.16463369 0.16338134 0.16338134\n",
      " 0.16493425 0.17084534 0.17112085 0.16871634 0.16210394 0.16280526\n",
      " 0.16568566 0.17179712 0.1764809  0.17635567 0.183469   0.18562304\n",
      " 0.18219161 0.18126487 0.17778334 0.18467126 0.18564809 0.19273638\n",
      " 0.19153413 0.19313713 0.19829681 0.19556669 0.19579211 0.19316218\n",
      " 0.20077646 0.19997495 0.19644333 0.20343143 0.20641202 0.19746828\n",
      " 0.19842301 0.1989764  0.19924296 0.19933718 0.19933847 0.1992936\n",
      " 0.19922753 0.19915257 0.19907489 0.19899753 0.19892216 0.1988499\n",
      " 0.19878142 0.19871706 0.1986571  0.19860151 0.19855008 0.19850251\n",
      " 0.19845843 0.19841728 0.1983787  0.19834211 0.19830707 0.19827315\n",
      " 0.19823997 0.19820711 0.19817427 0.19814126 0.19810784 0.19807383\n",
      " 0.19803923 0.19800387 0.19796775 0.19793087]\n",
      "4 day output [[0.19789316]]\n",
      "5 day input [0.12726362 0.13507827 0.13906074 0.14542267 0.14860363 0.1472511\n",
      " 0.14256731 0.14482154 0.13823419 0.13515341 0.13340013 0.14707577\n",
      " 0.14619912 0.14624922 0.14935504 0.15226049 0.14980589 0.14572323\n",
      " 0.14649969 0.14259236 0.14256731 0.15421415 0.15739512 0.15716969\n",
      " 0.15453976 0.15180964 0.14765185 0.16713838 0.16696306 0.16262993\n",
      " 0.16710081 0.16758923 0.16463369 0.16338134 0.16338134 0.16493425\n",
      " 0.17084534 0.17112085 0.16871634 0.16210394 0.16280526 0.16568566\n",
      " 0.17179712 0.1764809  0.17635567 0.183469   0.18562304 0.18219161\n",
      " 0.18126487 0.17778334 0.18467126 0.18564809 0.19273638 0.19153413\n",
      " 0.19313713 0.19829681 0.19556669 0.19579211 0.19316218 0.20077646\n",
      " 0.19997495 0.19644333 0.20343143 0.20641202 0.19746828 0.19842301\n",
      " 0.1989764  0.19924296 0.19933718 0.19933847 0.1992936  0.19922753\n",
      " 0.19915257 0.19907489 0.19899753 0.19892216 0.1988499  0.19878142\n",
      " 0.19871706 0.1986571  0.19860151 0.19855008 0.19850251 0.19845843\n",
      " 0.19841728 0.1983787  0.19834211 0.19830707 0.19827315 0.19823997\n",
      " 0.19820711 0.19817427 0.19814126 0.19810784 0.19807383 0.19803923\n",
      " 0.19800387 0.19796775 0.19793087 0.19789316]\n",
      "5 day output [[0.19785473]]\n",
      "6 day input [0.13507827 0.13906074 0.14542267 0.14860363 0.1472511  0.14256731\n",
      " 0.14482154 0.13823419 0.13515341 0.13340013 0.14707577 0.14619912\n",
      " 0.14624922 0.14935504 0.15226049 0.14980589 0.14572323 0.14649969\n",
      " 0.14259236 0.14256731 0.15421415 0.15739512 0.15716969 0.15453976\n",
      " 0.15180964 0.14765185 0.16713838 0.16696306 0.16262993 0.16710081\n",
      " 0.16758923 0.16463369 0.16338134 0.16338134 0.16493425 0.17084534\n",
      " 0.17112085 0.16871634 0.16210394 0.16280526 0.16568566 0.17179712\n",
      " 0.1764809  0.17635567 0.183469   0.18562304 0.18219161 0.18126487\n",
      " 0.17778334 0.18467126 0.18564809 0.19273638 0.19153413 0.19313713\n",
      " 0.19829681 0.19556669 0.19579211 0.19316218 0.20077646 0.19997495\n",
      " 0.19644333 0.20343143 0.20641202 0.19746828 0.19842301 0.1989764\n",
      " 0.19924296 0.19933718 0.19933847 0.1992936  0.19922753 0.19915257\n",
      " 0.19907489 0.19899753 0.19892216 0.1988499  0.19878142 0.19871706\n",
      " 0.1986571  0.19860151 0.19855008 0.19850251 0.19845843 0.19841728\n",
      " 0.1983787  0.19834211 0.19830707 0.19827315 0.19823997 0.19820711\n",
      " 0.19817427 0.19814126 0.19810784 0.19807383 0.19803923 0.19800387\n",
      " 0.19796775 0.19793087 0.19789316 0.19785473]\n",
      "6 day output [[0.19781564]]\n",
      "7 day input [0.13906074 0.14542267 0.14860363 0.1472511  0.14256731 0.14482154\n",
      " 0.13823419 0.13515341 0.13340013 0.14707577 0.14619912 0.14624922\n",
      " 0.14935504 0.15226049 0.14980589 0.14572323 0.14649969 0.14259236\n",
      " 0.14256731 0.15421415 0.15739512 0.15716969 0.15453976 0.15180964\n",
      " 0.14765185 0.16713838 0.16696306 0.16262993 0.16710081 0.16758923\n",
      " 0.16463369 0.16338134 0.16338134 0.16493425 0.17084534 0.17112085\n",
      " 0.16871634 0.16210394 0.16280526 0.16568566 0.17179712 0.1764809\n",
      " 0.17635567 0.183469   0.18562304 0.18219161 0.18126487 0.17778334\n",
      " 0.18467126 0.18564809 0.19273638 0.19153413 0.19313713 0.19829681\n",
      " 0.19556669 0.19579211 0.19316218 0.20077646 0.19997495 0.19644333\n",
      " 0.20343143 0.20641202 0.19746828 0.19842301 0.1989764  0.19924296\n",
      " 0.19933718 0.19933847 0.1992936  0.19922753 0.19915257 0.19907489\n",
      " 0.19899753 0.19892216 0.1988499  0.19878142 0.19871706 0.1986571\n",
      " 0.19860151 0.19855008 0.19850251 0.19845843 0.19841728 0.1983787\n",
      " 0.19834211 0.19830707 0.19827315 0.19823997 0.19820711 0.19817427\n",
      " 0.19814126 0.19810784 0.19807383 0.19803923 0.19800387 0.19796775\n",
      " 0.19793087 0.19789316 0.19785473 0.19781564]\n",
      "7 day output [[0.1977759]]\n",
      "8 day input [0.14542267 0.14860363 0.1472511  0.14256731 0.14482154 0.13823419\n",
      " 0.13515341 0.13340013 0.14707577 0.14619912 0.14624922 0.14935504\n",
      " 0.15226049 0.14980589 0.14572323 0.14649969 0.14259236 0.14256731\n",
      " 0.15421415 0.15739512 0.15716969 0.15453976 0.15180964 0.14765185\n",
      " 0.16713838 0.16696306 0.16262993 0.16710081 0.16758923 0.16463369\n",
      " 0.16338134 0.16338134 0.16493425 0.17084534 0.17112085 0.16871634\n",
      " 0.16210394 0.16280526 0.16568566 0.17179712 0.1764809  0.17635567\n",
      " 0.183469   0.18562304 0.18219161 0.18126487 0.17778334 0.18467126\n",
      " 0.18564809 0.19273638 0.19153413 0.19313713 0.19829681 0.19556669\n",
      " 0.19579211 0.19316218 0.20077646 0.19997495 0.19644333 0.20343143\n",
      " 0.20641202 0.19746828 0.19842301 0.1989764  0.19924296 0.19933718\n",
      " 0.19933847 0.1992936  0.19922753 0.19915257 0.19907489 0.19899753\n",
      " 0.19892216 0.1988499  0.19878142 0.19871706 0.1986571  0.19860151\n",
      " 0.19855008 0.19850251 0.19845843 0.19841728 0.1983787  0.19834211\n",
      " 0.19830707 0.19827315 0.19823997 0.19820711 0.19817427 0.19814126\n",
      " 0.19810784 0.19807383 0.19803923 0.19800387 0.19796775 0.19793087\n",
      " 0.19789316 0.19785473 0.19781564 0.1977759 ]\n"
     ]
    },
    {
     "name": "stdout",
     "output_type": "stream",
     "text": [
      "8 day output [[0.19773558]]\n",
      "9 day input [0.14860363 0.1472511  0.14256731 0.14482154 0.13823419 0.13515341\n",
      " 0.13340013 0.14707577 0.14619912 0.14624922 0.14935504 0.15226049\n",
      " 0.14980589 0.14572323 0.14649969 0.14259236 0.14256731 0.15421415\n",
      " 0.15739512 0.15716969 0.15453976 0.15180964 0.14765185 0.16713838\n",
      " 0.16696306 0.16262993 0.16710081 0.16758923 0.16463369 0.16338134\n",
      " 0.16338134 0.16493425 0.17084534 0.17112085 0.16871634 0.16210394\n",
      " 0.16280526 0.16568566 0.17179712 0.1764809  0.17635567 0.183469\n",
      " 0.18562304 0.18219161 0.18126487 0.17778334 0.18467126 0.18564809\n",
      " 0.19273638 0.19153413 0.19313713 0.19829681 0.19556669 0.19579211\n",
      " 0.19316218 0.20077646 0.19997495 0.19644333 0.20343143 0.20641202\n",
      " 0.19746828 0.19842301 0.1989764  0.19924296 0.19933718 0.19933847\n",
      " 0.1992936  0.19922753 0.19915257 0.19907489 0.19899753 0.19892216\n",
      " 0.1988499  0.19878142 0.19871706 0.1986571  0.19860151 0.19855008\n",
      " 0.19850251 0.19845843 0.19841728 0.1983787  0.19834211 0.19830707\n",
      " 0.19827315 0.19823997 0.19820711 0.19817427 0.19814126 0.19810784\n",
      " 0.19807383 0.19803923 0.19800387 0.19796775 0.19793087 0.19789316\n",
      " 0.19785473 0.19781564 0.1977759  0.19773558]\n",
      "9 day output [[0.19769481]]\n",
      "10 day input [0.1472511  0.14256731 0.14482154 0.13823419 0.13515341 0.13340013\n",
      " 0.14707577 0.14619912 0.14624922 0.14935504 0.15226049 0.14980589\n",
      " 0.14572323 0.14649969 0.14259236 0.14256731 0.15421415 0.15739512\n",
      " 0.15716969 0.15453976 0.15180964 0.14765185 0.16713838 0.16696306\n",
      " 0.16262993 0.16710081 0.16758923 0.16463369 0.16338134 0.16338134\n",
      " 0.16493425 0.17084534 0.17112085 0.16871634 0.16210394 0.16280526\n",
      " 0.16568566 0.17179712 0.1764809  0.17635567 0.183469   0.18562304\n",
      " 0.18219161 0.18126487 0.17778334 0.18467126 0.18564809 0.19273638\n",
      " 0.19153413 0.19313713 0.19829681 0.19556669 0.19579211 0.19316218\n",
      " 0.20077646 0.19997495 0.19644333 0.20343143 0.20641202 0.19746828\n",
      " 0.19842301 0.1989764  0.19924296 0.19933718 0.19933847 0.1992936\n",
      " 0.19922753 0.19915257 0.19907489 0.19899753 0.19892216 0.1988499\n",
      " 0.19878142 0.19871706 0.1986571  0.19860151 0.19855008 0.19850251\n",
      " 0.19845843 0.19841728 0.1983787  0.19834211 0.19830707 0.19827315\n",
      " 0.19823997 0.19820711 0.19817427 0.19814126 0.19810784 0.19807383\n",
      " 0.19803923 0.19800387 0.19796775 0.19793087 0.19789316 0.19785473\n",
      " 0.19781564 0.1977759  0.19773558 0.19769481]\n",
      "10 day output [[0.19765356]]\n",
      "11 day input [0.14256731 0.14482154 0.13823419 0.13515341 0.13340013 0.14707577\n",
      " 0.14619912 0.14624922 0.14935504 0.15226049 0.14980589 0.14572323\n",
      " 0.14649969 0.14259236 0.14256731 0.15421415 0.15739512 0.15716969\n",
      " 0.15453976 0.15180964 0.14765185 0.16713838 0.16696306 0.16262993\n",
      " 0.16710081 0.16758923 0.16463369 0.16338134 0.16338134 0.16493425\n",
      " 0.17084534 0.17112085 0.16871634 0.16210394 0.16280526 0.16568566\n",
      " 0.17179712 0.1764809  0.17635567 0.183469   0.18562304 0.18219161\n",
      " 0.18126487 0.17778334 0.18467126 0.18564809 0.19273638 0.19153413\n",
      " 0.19313713 0.19829681 0.19556669 0.19579211 0.19316218 0.20077646\n",
      " 0.19997495 0.19644333 0.20343143 0.20641202 0.19746828 0.19842301\n",
      " 0.1989764  0.19924296 0.19933718 0.19933847 0.1992936  0.19922753\n",
      " 0.19915257 0.19907489 0.19899753 0.19892216 0.1988499  0.19878142\n",
      " 0.19871706 0.1986571  0.19860151 0.19855008 0.19850251 0.19845843\n",
      " 0.19841728 0.1983787  0.19834211 0.19830707 0.19827315 0.19823997\n",
      " 0.19820711 0.19817427 0.19814126 0.19810784 0.19807383 0.19803923\n",
      " 0.19800387 0.19796775 0.19793087 0.19789316 0.19785473 0.19781564\n",
      " 0.1977759  0.19773558 0.19769481 0.19765356]\n",
      "11 day output [[0.19761196]]\n",
      "12 day input [0.14482154 0.13823419 0.13515341 0.13340013 0.14707577 0.14619912\n",
      " 0.14624922 0.14935504 0.15226049 0.14980589 0.14572323 0.14649969\n",
      " 0.14259236 0.14256731 0.15421415 0.15739512 0.15716969 0.15453976\n",
      " 0.15180964 0.14765185 0.16713838 0.16696306 0.16262993 0.16710081\n",
      " 0.16758923 0.16463369 0.16338134 0.16338134 0.16493425 0.17084534\n",
      " 0.17112085 0.16871634 0.16210394 0.16280526 0.16568566 0.17179712\n",
      " 0.1764809  0.17635567 0.183469   0.18562304 0.18219161 0.18126487\n",
      " 0.17778334 0.18467126 0.18564809 0.19273638 0.19153413 0.19313713\n",
      " 0.19829681 0.19556669 0.19579211 0.19316218 0.20077646 0.19997495\n",
      " 0.19644333 0.20343143 0.20641202 0.19746828 0.19842301 0.1989764\n",
      " 0.19924296 0.19933718 0.19933847 0.1992936  0.19922753 0.19915257\n",
      " 0.19907489 0.19899753 0.19892216 0.1988499  0.19878142 0.19871706\n",
      " 0.1986571  0.19860151 0.19855008 0.19850251 0.19845843 0.19841728\n",
      " 0.1983787  0.19834211 0.19830707 0.19827315 0.19823997 0.19820711\n",
      " 0.19817427 0.19814126 0.19810784 0.19807383 0.19803923 0.19800387\n",
      " 0.19796775 0.19793087 0.19789316 0.19785473 0.19781564 0.1977759\n",
      " 0.19773558 0.19769481 0.19765356 0.19761196]\n",
      "12 day output [[0.19757006]]\n",
      "13 day input [0.13823419 0.13515341 0.13340013 0.14707577 0.14619912 0.14624922\n",
      " 0.14935504 0.15226049 0.14980589 0.14572323 0.14649969 0.14259236\n",
      " 0.14256731 0.15421415 0.15739512 0.15716969 0.15453976 0.15180964\n",
      " 0.14765185 0.16713838 0.16696306 0.16262993 0.16710081 0.16758923\n",
      " 0.16463369 0.16338134 0.16338134 0.16493425 0.17084534 0.17112085\n",
      " 0.16871634 0.16210394 0.16280526 0.16568566 0.17179712 0.1764809\n",
      " 0.17635567 0.183469   0.18562304 0.18219161 0.18126487 0.17778334\n",
      " 0.18467126 0.18564809 0.19273638 0.19153413 0.19313713 0.19829681\n",
      " 0.19556669 0.19579211 0.19316218 0.20077646 0.19997495 0.19644333\n",
      " 0.20343143 0.20641202 0.19746828 0.19842301 0.1989764  0.19924296\n",
      " 0.19933718 0.19933847 0.1992936  0.19922753 0.19915257 0.19907489\n",
      " 0.19899753 0.19892216 0.1988499  0.19878142 0.19871706 0.1986571\n",
      " 0.19860151 0.19855008 0.19850251 0.19845843 0.19841728 0.1983787\n",
      " 0.19834211 0.19830707 0.19827315 0.19823997 0.19820711 0.19817427\n",
      " 0.19814126 0.19810784 0.19807383 0.19803923 0.19800387 0.19796775\n",
      " 0.19793087 0.19789316 0.19785473 0.19781564 0.1977759  0.19773558\n",
      " 0.19769481 0.19765356 0.19761196 0.19757006]\n",
      "13 day output [[0.19752789]]\n",
      "14 day input [0.13515341 0.13340013 0.14707577 0.14619912 0.14624922 0.14935504\n",
      " 0.15226049 0.14980589 0.14572323 0.14649969 0.14259236 0.14256731\n",
      " 0.15421415 0.15739512 0.15716969 0.15453976 0.15180964 0.14765185\n",
      " 0.16713838 0.16696306 0.16262993 0.16710081 0.16758923 0.16463369\n",
      " 0.16338134 0.16338134 0.16493425 0.17084534 0.17112085 0.16871634\n",
      " 0.16210394 0.16280526 0.16568566 0.17179712 0.1764809  0.17635567\n",
      " 0.183469   0.18562304 0.18219161 0.18126487 0.17778334 0.18467126\n",
      " 0.18564809 0.19273638 0.19153413 0.19313713 0.19829681 0.19556669\n",
      " 0.19579211 0.19316218 0.20077646 0.19997495 0.19644333 0.20343143\n",
      " 0.20641202 0.19746828 0.19842301 0.1989764  0.19924296 0.19933718\n",
      " 0.19933847 0.1992936  0.19922753 0.19915257 0.19907489 0.19899753\n",
      " 0.19892216 0.1988499  0.19878142 0.19871706 0.1986571  0.19860151\n",
      " 0.19855008 0.19850251 0.19845843 0.19841728 0.1983787  0.19834211\n",
      " 0.19830707 0.19827315 0.19823997 0.19820711 0.19817427 0.19814126\n",
      " 0.19810784 0.19807383 0.19803923 0.19800387 0.19796775 0.19793087\n",
      " 0.19789316 0.19785473 0.19781564 0.1977759  0.19773558 0.19769481\n",
      " 0.19765356 0.19761196 0.19757006 0.19752789]\n",
      "14 day output [[0.19748552]]\n",
      "15 day input [0.13340013 0.14707577 0.14619912 0.14624922 0.14935504 0.15226049\n",
      " 0.14980589 0.14572323 0.14649969 0.14259236 0.14256731 0.15421415\n",
      " 0.15739512 0.15716969 0.15453976 0.15180964 0.14765185 0.16713838\n",
      " 0.16696306 0.16262993 0.16710081 0.16758923 0.16463369 0.16338134\n",
      " 0.16338134 0.16493425 0.17084534 0.17112085 0.16871634 0.16210394\n",
      " 0.16280526 0.16568566 0.17179712 0.1764809  0.17635567 0.183469\n",
      " 0.18562304 0.18219161 0.18126487 0.17778334 0.18467126 0.18564809\n",
      " 0.19273638 0.19153413 0.19313713 0.19829681 0.19556669 0.19579211\n",
      " 0.19316218 0.20077646 0.19997495 0.19644333 0.20343143 0.20641202\n",
      " 0.19746828 0.19842301 0.1989764  0.19924296 0.19933718 0.19933847\n",
      " 0.1992936  0.19922753 0.19915257 0.19907489 0.19899753 0.19892216\n",
      " 0.1988499  0.19878142 0.19871706 0.1986571  0.19860151 0.19855008\n",
      " 0.19850251 0.19845843 0.19841728 0.1983787  0.19834211 0.19830707\n",
      " 0.19827315 0.19823997 0.19820711 0.19817427 0.19814126 0.19810784\n",
      " 0.19807383 0.19803923 0.19800387 0.19796775 0.19793087 0.19789316\n",
      " 0.19785473 0.19781564 0.1977759  0.19773558 0.19769481 0.19765356\n",
      " 0.19761196 0.19757006 0.19752789 0.19748552]\n",
      "15 day output [[0.197443]]\n",
      "16 day input [0.14707577 0.14619912 0.14624922 0.14935504 0.15226049 0.14980589\n",
      " 0.14572323 0.14649969 0.14259236 0.14256731 0.15421415 0.15739512\n",
      " 0.15716969 0.15453976 0.15180964 0.14765185 0.16713838 0.16696306\n",
      " 0.16262993 0.16710081 0.16758923 0.16463369 0.16338134 0.16338134\n",
      " 0.16493425 0.17084534 0.17112085 0.16871634 0.16210394 0.16280526\n",
      " 0.16568566 0.17179712 0.1764809  0.17635567 0.183469   0.18562304\n",
      " 0.18219161 0.18126487 0.17778334 0.18467126 0.18564809 0.19273638\n",
      " 0.19153413 0.19313713 0.19829681 0.19556669 0.19579211 0.19316218\n",
      " 0.20077646 0.19997495 0.19644333 0.20343143 0.20641202 0.19746828\n",
      " 0.19842301 0.1989764  0.19924296 0.19933718 0.19933847 0.1992936\n",
      " 0.19922753 0.19915257 0.19907489 0.19899753 0.19892216 0.1988499\n",
      " 0.19878142 0.19871706 0.1986571  0.19860151 0.19855008 0.19850251\n",
      " 0.19845843 0.19841728 0.1983787  0.19834211 0.19830707 0.19827315\n",
      " 0.19823997 0.19820711 0.19817427 0.19814126 0.19810784 0.19807383\n",
      " 0.19803923 0.19800387 0.19796775 0.19793087 0.19789316 0.19785473\n",
      " 0.19781564 0.1977759  0.19773558 0.19769481 0.19765356 0.19761196\n",
      " 0.19757006 0.19752789 0.19748552 0.19744299]\n",
      "16 day output [[0.19740038]]\n",
      "17 day input [0.14619912 0.14624922 0.14935504 0.15226049 0.14980589 0.14572323\n",
      " 0.14649969 0.14259236 0.14256731 0.15421415 0.15739512 0.15716969\n",
      " 0.15453976 0.15180964 0.14765185 0.16713838 0.16696306 0.16262993\n",
      " 0.16710081 0.16758923 0.16463369 0.16338134 0.16338134 0.16493425\n",
      " 0.17084534 0.17112085 0.16871634 0.16210394 0.16280526 0.16568566\n",
      " 0.17179712 0.1764809  0.17635567 0.183469   0.18562304 0.18219161\n",
      " 0.18126487 0.17778334 0.18467126 0.18564809 0.19273638 0.19153413\n",
      " 0.19313713 0.19829681 0.19556669 0.19579211 0.19316218 0.20077646\n",
      " 0.19997495 0.19644333 0.20343143 0.20641202 0.19746828 0.19842301\n",
      " 0.1989764  0.19924296 0.19933718 0.19933847 0.1992936  0.19922753\n",
      " 0.19915257 0.19907489 0.19899753 0.19892216 0.1988499  0.19878142\n",
      " 0.19871706 0.1986571  0.19860151 0.19855008 0.19850251 0.19845843\n",
      " 0.19841728 0.1983787  0.19834211 0.19830707 0.19827315 0.19823997\n",
      " 0.19820711 0.19817427 0.19814126 0.19810784 0.19807383 0.19803923\n",
      " 0.19800387 0.19796775 0.19793087 0.19789316 0.19785473 0.19781564\n",
      " 0.1977759  0.19773558 0.19769481 0.19765356 0.19761196 0.19757006\n",
      " 0.19752789 0.19748552 0.19744299 0.19740038]\n",
      "17 day output [[0.19735767]]\n",
      "18 day input [0.14624922 0.14935504 0.15226049 0.14980589 0.14572323 0.14649969\n",
      " 0.14259236 0.14256731 0.15421415 0.15739512 0.15716969 0.15453976\n",
      " 0.15180964 0.14765185 0.16713838 0.16696306 0.16262993 0.16710081\n",
      " 0.16758923 0.16463369 0.16338134 0.16338134 0.16493425 0.17084534\n",
      " 0.17112085 0.16871634 0.16210394 0.16280526 0.16568566 0.17179712\n",
      " 0.1764809  0.17635567 0.183469   0.18562304 0.18219161 0.18126487\n",
      " 0.17778334 0.18467126 0.18564809 0.19273638 0.19153413 0.19313713\n",
      " 0.19829681 0.19556669 0.19579211 0.19316218 0.20077646 0.19997495\n",
      " 0.19644333 0.20343143 0.20641202 0.19746828 0.19842301 0.1989764\n",
      " 0.19924296 0.19933718 0.19933847 0.1992936  0.19922753 0.19915257\n",
      " 0.19907489 0.19899753 0.19892216 0.1988499  0.19878142 0.19871706\n",
      " 0.1986571  0.19860151 0.19855008 0.19850251 0.19845843 0.19841728\n",
      " 0.1983787  0.19834211 0.19830707 0.19827315 0.19823997 0.19820711\n",
      " 0.19817427 0.19814126 0.19810784 0.19807383 0.19803923 0.19800387\n",
      " 0.19796775 0.19793087 0.19789316 0.19785473 0.19781564 0.1977759\n",
      " 0.19773558 0.19769481 0.19765356 0.19761196 0.19757006 0.19752789\n",
      " 0.19748552 0.19744299 0.19740038 0.19735767]\n"
     ]
    },
    {
     "name": "stdout",
     "output_type": "stream",
     "text": [
      "18 day output [[0.1973149]]\n",
      "19 day input [0.14935504 0.15226049 0.14980589 0.14572323 0.14649969 0.14259236\n",
      " 0.14256731 0.15421415 0.15739512 0.15716969 0.15453976 0.15180964\n",
      " 0.14765185 0.16713838 0.16696306 0.16262993 0.16710081 0.16758923\n",
      " 0.16463369 0.16338134 0.16338134 0.16493425 0.17084534 0.17112085\n",
      " 0.16871634 0.16210394 0.16280526 0.16568566 0.17179712 0.1764809\n",
      " 0.17635567 0.183469   0.18562304 0.18219161 0.18126487 0.17778334\n",
      " 0.18467126 0.18564809 0.19273638 0.19153413 0.19313713 0.19829681\n",
      " 0.19556669 0.19579211 0.19316218 0.20077646 0.19997495 0.19644333\n",
      " 0.20343143 0.20641202 0.19746828 0.19842301 0.1989764  0.19924296\n",
      " 0.19933718 0.19933847 0.1992936  0.19922753 0.19915257 0.19907489\n",
      " 0.19899753 0.19892216 0.1988499  0.19878142 0.19871706 0.1986571\n",
      " 0.19860151 0.19855008 0.19850251 0.19845843 0.19841728 0.1983787\n",
      " 0.19834211 0.19830707 0.19827315 0.19823997 0.19820711 0.19817427\n",
      " 0.19814126 0.19810784 0.19807383 0.19803923 0.19800387 0.19796775\n",
      " 0.19793087 0.19789316 0.19785473 0.19781564 0.1977759  0.19773558\n",
      " 0.19769481 0.19765356 0.19761196 0.19757006 0.19752789 0.19748552\n",
      " 0.19744299 0.19740038 0.19735767 0.1973149 ]\n",
      "19 day output [[0.19727212]]\n",
      "20 day input [0.15226049 0.14980589 0.14572323 0.14649969 0.14259236 0.14256731\n",
      " 0.15421415 0.15739512 0.15716969 0.15453976 0.15180964 0.14765185\n",
      " 0.16713838 0.16696306 0.16262993 0.16710081 0.16758923 0.16463369\n",
      " 0.16338134 0.16338134 0.16493425 0.17084534 0.17112085 0.16871634\n",
      " 0.16210394 0.16280526 0.16568566 0.17179712 0.1764809  0.17635567\n",
      " 0.183469   0.18562304 0.18219161 0.18126487 0.17778334 0.18467126\n",
      " 0.18564809 0.19273638 0.19153413 0.19313713 0.19829681 0.19556669\n",
      " 0.19579211 0.19316218 0.20077646 0.19997495 0.19644333 0.20343143\n",
      " 0.20641202 0.19746828 0.19842301 0.1989764  0.19924296 0.19933718\n",
      " 0.19933847 0.1992936  0.19922753 0.19915257 0.19907489 0.19899753\n",
      " 0.19892216 0.1988499  0.19878142 0.19871706 0.1986571  0.19860151\n",
      " 0.19855008 0.19850251 0.19845843 0.19841728 0.1983787  0.19834211\n",
      " 0.19830707 0.19827315 0.19823997 0.19820711 0.19817427 0.19814126\n",
      " 0.19810784 0.19807383 0.19803923 0.19800387 0.19796775 0.19793087\n",
      " 0.19789316 0.19785473 0.19781564 0.1977759  0.19773558 0.19769481\n",
      " 0.19765356 0.19761196 0.19757006 0.19752789 0.19748552 0.19744299\n",
      " 0.19740038 0.19735767 0.1973149  0.19727212]\n",
      "20 day output [[0.19722931]]\n",
      "21 day input [0.14980589 0.14572323 0.14649969 0.14259236 0.14256731 0.15421415\n",
      " 0.15739512 0.15716969 0.15453976 0.15180964 0.14765185 0.16713838\n",
      " 0.16696306 0.16262993 0.16710081 0.16758923 0.16463369 0.16338134\n",
      " 0.16338134 0.16493425 0.17084534 0.17112085 0.16871634 0.16210394\n",
      " 0.16280526 0.16568566 0.17179712 0.1764809  0.17635567 0.183469\n",
      " 0.18562304 0.18219161 0.18126487 0.17778334 0.18467126 0.18564809\n",
      " 0.19273638 0.19153413 0.19313713 0.19829681 0.19556669 0.19579211\n",
      " 0.19316218 0.20077646 0.19997495 0.19644333 0.20343143 0.20641202\n",
      " 0.19746828 0.19842301 0.1989764  0.19924296 0.19933718 0.19933847\n",
      " 0.1992936  0.19922753 0.19915257 0.19907489 0.19899753 0.19892216\n",
      " 0.1988499  0.19878142 0.19871706 0.1986571  0.19860151 0.19855008\n",
      " 0.19850251 0.19845843 0.19841728 0.1983787  0.19834211 0.19830707\n",
      " 0.19827315 0.19823997 0.19820711 0.19817427 0.19814126 0.19810784\n",
      " 0.19807383 0.19803923 0.19800387 0.19796775 0.19793087 0.19789316\n",
      " 0.19785473 0.19781564 0.1977759  0.19773558 0.19769481 0.19765356\n",
      " 0.19761196 0.19757006 0.19752789 0.19748552 0.19744299 0.19740038\n",
      " 0.19735767 0.1973149  0.19727212 0.19722931]\n",
      "21 day output [[0.1971865]]\n",
      "22 day input [0.14572323 0.14649969 0.14259236 0.14256731 0.15421415 0.15739512\n",
      " 0.15716969 0.15453976 0.15180964 0.14765185 0.16713838 0.16696306\n",
      " 0.16262993 0.16710081 0.16758923 0.16463369 0.16338134 0.16338134\n",
      " 0.16493425 0.17084534 0.17112085 0.16871634 0.16210394 0.16280526\n",
      " 0.16568566 0.17179712 0.1764809  0.17635567 0.183469   0.18562304\n",
      " 0.18219161 0.18126487 0.17778334 0.18467126 0.18564809 0.19273638\n",
      " 0.19153413 0.19313713 0.19829681 0.19556669 0.19579211 0.19316218\n",
      " 0.20077646 0.19997495 0.19644333 0.20343143 0.20641202 0.19746828\n",
      " 0.19842301 0.1989764  0.19924296 0.19933718 0.19933847 0.1992936\n",
      " 0.19922753 0.19915257 0.19907489 0.19899753 0.19892216 0.1988499\n",
      " 0.19878142 0.19871706 0.1986571  0.19860151 0.19855008 0.19850251\n",
      " 0.19845843 0.19841728 0.1983787  0.19834211 0.19830707 0.19827315\n",
      " 0.19823997 0.19820711 0.19817427 0.19814126 0.19810784 0.19807383\n",
      " 0.19803923 0.19800387 0.19796775 0.19793087 0.19789316 0.19785473\n",
      " 0.19781564 0.1977759  0.19773558 0.19769481 0.19765356 0.19761196\n",
      " 0.19757006 0.19752789 0.19748552 0.19744299 0.19740038 0.19735767\n",
      " 0.1973149  0.19727212 0.19722931 0.1971865 ]\n",
      "22 day output [[0.1971437]]\n",
      "23 day input [0.14649969 0.14259236 0.14256731 0.15421415 0.15739512 0.15716969\n",
      " 0.15453976 0.15180964 0.14765185 0.16713838 0.16696306 0.16262993\n",
      " 0.16710081 0.16758923 0.16463369 0.16338134 0.16338134 0.16493425\n",
      " 0.17084534 0.17112085 0.16871634 0.16210394 0.16280526 0.16568566\n",
      " 0.17179712 0.1764809  0.17635567 0.183469   0.18562304 0.18219161\n",
      " 0.18126487 0.17778334 0.18467126 0.18564809 0.19273638 0.19153413\n",
      " 0.19313713 0.19829681 0.19556669 0.19579211 0.19316218 0.20077646\n",
      " 0.19997495 0.19644333 0.20343143 0.20641202 0.19746828 0.19842301\n",
      " 0.1989764  0.19924296 0.19933718 0.19933847 0.1992936  0.19922753\n",
      " 0.19915257 0.19907489 0.19899753 0.19892216 0.1988499  0.19878142\n",
      " 0.19871706 0.1986571  0.19860151 0.19855008 0.19850251 0.19845843\n",
      " 0.19841728 0.1983787  0.19834211 0.19830707 0.19827315 0.19823997\n",
      " 0.19820711 0.19817427 0.19814126 0.19810784 0.19807383 0.19803923\n",
      " 0.19800387 0.19796775 0.19793087 0.19789316 0.19785473 0.19781564\n",
      " 0.1977759  0.19773558 0.19769481 0.19765356 0.19761196 0.19757006\n",
      " 0.19752789 0.19748552 0.19744299 0.19740038 0.19735767 0.1973149\n",
      " 0.19727212 0.19722931 0.1971865  0.1971437 ]\n",
      "23 day output [[0.19710094]]\n",
      "24 day input [0.14259236 0.14256731 0.15421415 0.15739512 0.15716969 0.15453976\n",
      " 0.15180964 0.14765185 0.16713838 0.16696306 0.16262993 0.16710081\n",
      " 0.16758923 0.16463369 0.16338134 0.16338134 0.16493425 0.17084534\n",
      " 0.17112085 0.16871634 0.16210394 0.16280526 0.16568566 0.17179712\n",
      " 0.1764809  0.17635567 0.183469   0.18562304 0.18219161 0.18126487\n",
      " 0.17778334 0.18467126 0.18564809 0.19273638 0.19153413 0.19313713\n",
      " 0.19829681 0.19556669 0.19579211 0.19316218 0.20077646 0.19997495\n",
      " 0.19644333 0.20343143 0.20641202 0.19746828 0.19842301 0.1989764\n",
      " 0.19924296 0.19933718 0.19933847 0.1992936  0.19922753 0.19915257\n",
      " 0.19907489 0.19899753 0.19892216 0.1988499  0.19878142 0.19871706\n",
      " 0.1986571  0.19860151 0.19855008 0.19850251 0.19845843 0.19841728\n",
      " 0.1983787  0.19834211 0.19830707 0.19827315 0.19823997 0.19820711\n",
      " 0.19817427 0.19814126 0.19810784 0.19807383 0.19803923 0.19800387\n",
      " 0.19796775 0.19793087 0.19789316 0.19785473 0.19781564 0.1977759\n",
      " 0.19773558 0.19769481 0.19765356 0.19761196 0.19757006 0.19752789\n",
      " 0.19748552 0.19744299 0.19740038 0.19735767 0.1973149  0.19727212\n",
      " 0.19722931 0.1971865  0.1971437  0.19710094]\n",
      "24 day output [[0.19705817]]\n",
      "25 day input [0.14256731 0.15421415 0.15739512 0.15716969 0.15453976 0.15180964\n",
      " 0.14765185 0.16713838 0.16696306 0.16262993 0.16710081 0.16758923\n",
      " 0.16463369 0.16338134 0.16338134 0.16493425 0.17084534 0.17112085\n",
      " 0.16871634 0.16210394 0.16280526 0.16568566 0.17179712 0.1764809\n",
      " 0.17635567 0.183469   0.18562304 0.18219161 0.18126487 0.17778334\n",
      " 0.18467126 0.18564809 0.19273638 0.19153413 0.19313713 0.19829681\n",
      " 0.19556669 0.19579211 0.19316218 0.20077646 0.19997495 0.19644333\n",
      " 0.20343143 0.20641202 0.19746828 0.19842301 0.1989764  0.19924296\n",
      " 0.19933718 0.19933847 0.1992936  0.19922753 0.19915257 0.19907489\n",
      " 0.19899753 0.19892216 0.1988499  0.19878142 0.19871706 0.1986571\n",
      " 0.19860151 0.19855008 0.19850251 0.19845843 0.19841728 0.1983787\n",
      " 0.19834211 0.19830707 0.19827315 0.19823997 0.19820711 0.19817427\n",
      " 0.19814126 0.19810784 0.19807383 0.19803923 0.19800387 0.19796775\n",
      " 0.19793087 0.19789316 0.19785473 0.19781564 0.1977759  0.19773558\n",
      " 0.19769481 0.19765356 0.19761196 0.19757006 0.19752789 0.19748552\n",
      " 0.19744299 0.19740038 0.19735767 0.1973149  0.19727212 0.19722931\n",
      " 0.1971865  0.1971437  0.19710094 0.19705817]\n",
      "25 day output [[0.1970154]]\n",
      "26 day input [0.15421415 0.15739512 0.15716969 0.15453976 0.15180964 0.14765185\n",
      " 0.16713838 0.16696306 0.16262993 0.16710081 0.16758923 0.16463369\n",
      " 0.16338134 0.16338134 0.16493425 0.17084534 0.17112085 0.16871634\n",
      " 0.16210394 0.16280526 0.16568566 0.17179712 0.1764809  0.17635567\n",
      " 0.183469   0.18562304 0.18219161 0.18126487 0.17778334 0.18467126\n",
      " 0.18564809 0.19273638 0.19153413 0.19313713 0.19829681 0.19556669\n",
      " 0.19579211 0.19316218 0.20077646 0.19997495 0.19644333 0.20343143\n",
      " 0.20641202 0.19746828 0.19842301 0.1989764  0.19924296 0.19933718\n",
      " 0.19933847 0.1992936  0.19922753 0.19915257 0.19907489 0.19899753\n",
      " 0.19892216 0.1988499  0.19878142 0.19871706 0.1986571  0.19860151\n",
      " 0.19855008 0.19850251 0.19845843 0.19841728 0.1983787  0.19834211\n",
      " 0.19830707 0.19827315 0.19823997 0.19820711 0.19817427 0.19814126\n",
      " 0.19810784 0.19807383 0.19803923 0.19800387 0.19796775 0.19793087\n",
      " 0.19789316 0.19785473 0.19781564 0.1977759  0.19773558 0.19769481\n",
      " 0.19765356 0.19761196 0.19757006 0.19752789 0.19748552 0.19744299\n",
      " 0.19740038 0.19735767 0.1973149  0.19727212 0.19722931 0.1971865\n",
      " 0.1971437  0.19710094 0.19705817 0.1970154 ]\n",
      "26 day output [[0.19697265]]\n",
      "27 day input [0.15739512 0.15716969 0.15453976 0.15180964 0.14765185 0.16713838\n",
      " 0.16696306 0.16262993 0.16710081 0.16758923 0.16463369 0.16338134\n",
      " 0.16338134 0.16493425 0.17084534 0.17112085 0.16871634 0.16210394\n",
      " 0.16280526 0.16568566 0.17179712 0.1764809  0.17635567 0.183469\n",
      " 0.18562304 0.18219161 0.18126487 0.17778334 0.18467126 0.18564809\n",
      " 0.19273638 0.19153413 0.19313713 0.19829681 0.19556669 0.19579211\n",
      " 0.19316218 0.20077646 0.19997495 0.19644333 0.20343143 0.20641202\n",
      " 0.19746828 0.19842301 0.1989764  0.19924296 0.19933718 0.19933847\n",
      " 0.1992936  0.19922753 0.19915257 0.19907489 0.19899753 0.19892216\n",
      " 0.1988499  0.19878142 0.19871706 0.1986571  0.19860151 0.19855008\n",
      " 0.19850251 0.19845843 0.19841728 0.1983787  0.19834211 0.19830707\n",
      " 0.19827315 0.19823997 0.19820711 0.19817427 0.19814126 0.19810784\n",
      " 0.19807383 0.19803923 0.19800387 0.19796775 0.19793087 0.19789316\n",
      " 0.19785473 0.19781564 0.1977759  0.19773558 0.19769481 0.19765356\n",
      " 0.19761196 0.19757006 0.19752789 0.19748552 0.19744299 0.19740038\n",
      " 0.19735767 0.1973149  0.19727212 0.19722931 0.1971865  0.1971437\n",
      " 0.19710094 0.19705817 0.1970154  0.19697265]\n",
      "27 day output [[0.19692992]]\n",
      "28 day input [0.15716969 0.15453976 0.15180964 0.14765185 0.16713838 0.16696306\n",
      " 0.16262993 0.16710081 0.16758923 0.16463369 0.16338134 0.16338134\n",
      " 0.16493425 0.17084534 0.17112085 0.16871634 0.16210394 0.16280526\n",
      " 0.16568566 0.17179712 0.1764809  0.17635567 0.183469   0.18562304\n",
      " 0.18219161 0.18126487 0.17778334 0.18467126 0.18564809 0.19273638\n",
      " 0.19153413 0.19313713 0.19829681 0.19556669 0.19579211 0.19316218\n",
      " 0.20077646 0.19997495 0.19644333 0.20343143 0.20641202 0.19746828\n",
      " 0.19842301 0.1989764  0.19924296 0.19933718 0.19933847 0.1992936\n",
      " 0.19922753 0.19915257 0.19907489 0.19899753 0.19892216 0.1988499\n",
      " 0.19878142 0.19871706 0.1986571  0.19860151 0.19855008 0.19850251\n",
      " 0.19845843 0.19841728 0.1983787  0.19834211 0.19830707 0.19827315\n",
      " 0.19823997 0.19820711 0.19817427 0.19814126 0.19810784 0.19807383\n",
      " 0.19803923 0.19800387 0.19796775 0.19793087 0.19789316 0.19785473\n",
      " 0.19781564 0.1977759  0.19773558 0.19769481 0.19765356 0.19761196\n",
      " 0.19757006 0.19752789 0.19748552 0.19744299 0.19740038 0.19735767\n",
      " 0.1973149  0.19727212 0.19722931 0.1971865  0.1971437  0.19710094\n",
      " 0.19705817 0.1970154  0.19697265 0.19692992]\n"
     ]
    },
    {
     "name": "stdout",
     "output_type": "stream",
     "text": [
      "28 day output [[0.19688717]]\n",
      "29 day input [0.15453976 0.15180964 0.14765185 0.16713838 0.16696306 0.16262993\n",
      " 0.16710081 0.16758923 0.16463369 0.16338134 0.16338134 0.16493425\n",
      " 0.17084534 0.17112085 0.16871634 0.16210394 0.16280526 0.16568566\n",
      " 0.17179712 0.1764809  0.17635567 0.183469   0.18562304 0.18219161\n",
      " 0.18126487 0.17778334 0.18467126 0.18564809 0.19273638 0.19153413\n",
      " 0.19313713 0.19829681 0.19556669 0.19579211 0.19316218 0.20077646\n",
      " 0.19997495 0.19644333 0.20343143 0.20641202 0.19746828 0.19842301\n",
      " 0.1989764  0.19924296 0.19933718 0.19933847 0.1992936  0.19922753\n",
      " 0.19915257 0.19907489 0.19899753 0.19892216 0.1988499  0.19878142\n",
      " 0.19871706 0.1986571  0.19860151 0.19855008 0.19850251 0.19845843\n",
      " 0.19841728 0.1983787  0.19834211 0.19830707 0.19827315 0.19823997\n",
      " 0.19820711 0.19817427 0.19814126 0.19810784 0.19807383 0.19803923\n",
      " 0.19800387 0.19796775 0.19793087 0.19789316 0.19785473 0.19781564\n",
      " 0.1977759  0.19773558 0.19769481 0.19765356 0.19761196 0.19757006\n",
      " 0.19752789 0.19748552 0.19744299 0.19740038 0.19735767 0.1973149\n",
      " 0.19727212 0.19722931 0.1971865  0.1971437  0.19710094 0.19705817\n",
      " 0.1970154  0.19697265 0.19692992 0.19688717]\n",
      "29 day output [[0.19684443]]\n",
      "[[0.1980392336845398], [0.1980038732290268], [0.1979677528142929], [0.19793087244033813], [0.1978931576013565], [0.19785472750663757], [0.1978156417608261], [0.19777590036392212], [0.19773557782173157], [0.1976948082447052], [0.19765356183052063], [0.1976119577884674], [0.1975700557231903], [0.19752788543701172], [0.1974855214357376], [0.19744299352169037], [0.19740037620067596], [0.1973576694726944], [0.19731490314006805], [0.19727212190628052], [0.1972293108701706], [0.19718649983406067], [0.19714370369911194], [0.1971009373664856], [0.19705817103385925], [0.1970154047012329], [0.19697265326976776], [0.1969299167394638], [0.19688716530799866], [0.1968444287776947]]\n"
     ]
    }
   ],
   "source": [
    "from numpy import array\n",
    "lst_output=[]\n",
    "n_steps=100\n",
    "i=0\n",
    "while(i<30):\n",
    "    if(len(temp_input)>100):\n",
    "        x_input=np.array(temp_input[1:])\n",
    "        print(\"{} day input {}\".format(i,x_input))\n",
    "        x_input=x_input.reshape(1,-1)\n",
    "        x_input=x_input.reshape((1,n_steps,1))\n",
    "        yhat=model.predict(x_input,verbose=0)\n",
    "        print(\"{} day output {}\".format(i,yhat))\n",
    "        temp_input.extend(yhat[0].tolist())\n",
    "        temp_input=temp_input[1:]\n",
    "        lst_output.extend(yhat.tolist())\n",
    "        i=i+1\n",
    "    else:\n",
    "        x_input=x_input.reshape((1,n_steps,1))\n",
    "        yhat=model.predict(x_input,verbose=0)\n",
    "        print(yhat[0])\n",
    "        temp_input.extend(yhat[0].tolist()) # adding the output to input\n",
    "        print(len(temp_input))\n",
    "        lst_output.extend(yhat.tolist())\n",
    "        i=i+1\n",
    "print(lst_output)"
   ]
  },
  {
   "cell_type": "code",
   "execution_count": 167,
   "id": "c764e7fa",
   "metadata": {},
   "outputs": [],
   "source": [
    "day_new=np.arange(1,101)\n",
    "day_pred=np.arange(101,131)"
   ]
  },
  {
   "cell_type": "code",
   "execution_count": 168,
   "id": "52b22718",
   "metadata": {},
   "outputs": [],
   "source": [
    "import matplotlib.pyplot as plt"
   ]
  },
  {
   "cell_type": "code",
   "execution_count": 171,
   "id": "1ce2d3d9",
   "metadata": {},
   "outputs": [
    {
     "data": {
      "text/plain": [
       "1256"
      ]
     },
     "execution_count": 171,
     "metadata": {},
     "output_type": "execute_result"
    }
   ],
   "source": [
    "df3=df1.tolist()\n",
    "df3.extend(lst_output)\n",
    "len(df1)"
   ]
  },
  {
   "cell_type": "code",
   "execution_count": 172,
   "id": "355c53fb",
   "metadata": {},
   "outputs": [
    {
     "data": {
      "text/plain": [
       "[<matplotlib.lines.Line2D at 0x2256816fd30>]"
      ]
     },
     "execution_count": 172,
     "metadata": {},
     "output_type": "execute_result"
    },
    {
     "data": {
      "image/png": "[encoded data removed]",
      "text/plain": [
       "<Figure size 432x288 with 1 Axes>"
      ]
     },
     "metadata": {
      "needs_background": "light"
     },
     "output_type": "display_data"
    }
   ],
   "source": [
    "plt.plot(day_new,scaler.inverse_transform(df1[1156:])) #previous 100 data\n",
    "plt.plot(day_pred,scaler.inverse_transform(lst_output))"
   ]
  }
 ],
 "metadata": {
  "kernelspec": {
   "display_name": "Python 3 (ipykernel)",
   "language": "python",
   "name": "python3"
  },
  "language_info": {
   "codemirror_mode": {
    "name": "ipython",
    "version": 3
   },
   "file_extension": ".py",
   "mimetype": "text/x-python",
   "name": "python",
   "nbconvert_exporter": "python",
   "pygments_lexer": "ipython3",
   "version": "3.9.12"
  }
 },
 "nbformat": 4,
 "nbformat_minor": 5
}
